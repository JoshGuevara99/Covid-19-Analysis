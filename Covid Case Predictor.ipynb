{
 "cells": [
  {
   "cell_type": "code",
   "execution_count": 1,
   "metadata": {},
   "outputs": [],
   "source": [
    "import pandas as pd\n",
    "import math\n",
    "from matplotlib import pyplot as plt\n",
    "%matplotlib inline\n",
    "import csv"
   ]
  },
  {
   "cell_type": "code",
   "execution_count": 2,
   "metadata": {},
   "outputs": [
    {
     "data": {
      "text/html": [
       "<div>\n",
       "<style scoped>\n",
       "    .dataframe tbody tr th:only-of-type {\n",
       "        vertical-align: middle;\n",
       "    }\n",
       "\n",
       "    .dataframe tbody tr th {\n",
       "        vertical-align: top;\n",
       "    }\n",
       "\n",
       "    .dataframe thead th {\n",
       "        text-align: right;\n",
       "    }\n",
       "</style>\n",
       "<table border=\"1\" class=\"dataframe\">\n",
       "  <thead>\n",
       "    <tr style=\"text-align: right;\">\n",
       "      <th></th>\n",
       "      <th>Covid Data</th>\n",
       "    </tr>\n",
       "  </thead>\n",
       "  <tbody>\n",
       "    <tr>\n",
       "      <th>0</th>\n",
       "      <td>Sep 15, 2020</td>\n",
       "    </tr>\n",
       "    <tr>\n",
       "      <th>1</th>\n",
       "      <td>6,557,762</td>\n",
       "    </tr>\n",
       "    <tr>\n",
       "      <th>2</th>\n",
       "      <td>Sep 14, 2020</td>\n",
       "    </tr>\n",
       "    <tr>\n",
       "      <th>3</th>\n",
       "      <td>6,522,317</td>\n",
       "    </tr>\n",
       "    <tr>\n",
       "      <th>4</th>\n",
       "      <td>Sep 13, 2020</td>\n",
       "    </tr>\n",
       "    <tr>\n",
       "      <th>...</th>\n",
       "      <td>...</td>\n",
       "    </tr>\n",
       "    <tr>\n",
       "      <th>467</th>\n",
       "      <td>0</td>\n",
       "    </tr>\n",
       "    <tr>\n",
       "      <th>468</th>\n",
       "      <td>Jan 25, 2020</td>\n",
       "    </tr>\n",
       "    <tr>\n",
       "      <th>469</th>\n",
       "      <td>0</td>\n",
       "    </tr>\n",
       "    <tr>\n",
       "      <th>470</th>\n",
       "      <td>Jan 24, 2020</td>\n",
       "    </tr>\n",
       "    <tr>\n",
       "      <th>471</th>\n",
       "      <td>0</td>\n",
       "    </tr>\n",
       "  </tbody>\n",
       "</table>\n",
       "<p>472 rows × 1 columns</p>\n",
       "</div>"
      ],
      "text/plain": [
       "       Covid Data\n",
       "0    Sep 15, 2020\n",
       "1       6,557,762\n",
       "2    Sep 14, 2020\n",
       "3       6,522,317\n",
       "4    Sep 13, 2020\n",
       "..            ...\n",
       "467             0\n",
       "468  Jan 25, 2020\n",
       "469             0\n",
       "470  Jan 24, 2020\n",
       "471             0\n",
       "\n",
       "[472 rows x 1 columns]"
      ]
     },
     "execution_count": 2,
     "metadata": {},
     "output_type": "execute_result"
    }
   ],
   "source": [
    "df = pd.read_csv('/Users/joshuaguevara/Desktop/CovidProject/CovidDataFile.csv')\n",
    "df"
   ]
  },
  {
   "cell_type": "code",
   "execution_count": 3,
   "metadata": {},
   "outputs": [],
   "source": [
    "dates = []#Number of days\n",
    "casesAsStrings = []\n",
    "cases = []#Raw cases without extra info\n",
    "for i in range(len(df)-1,-1,-1):\n",
    "    if(i%2 != 0):#Cases on odd rows\n",
    "        casesAsStrings.append(df.loc[i])\n",
    "\n",
    "for i in range(0,len(casesAsStrings)):#Making new lists with refined data\n",
    "    cases.append(int(casesAsStrings[i][0].replace(',','')))\n",
    "    dates.append(i)\n",
    "   "
   ]
  },
  {
   "cell_type": "code",
   "execution_count": 4,
   "metadata": {},
   "outputs": [],
   "source": [
    "#Least Squares Regression Line\n",
    "\n",
    "#Calculate X value mean \n",
    "xSum = 0\n",
    "for i in range(0,len(dates)):\n",
    "    xSum += i\n",
    "xMean = xSum/len(dates)#Average of number of days\n",
    "\n",
    "ySum = 0\n",
    "#Calculate Y value mean\n",
    "for j in range(0,len(cases)):\n",
    "    ySum += cases[j]\n",
    "\n",
    "yMean = ySum/len(cases)\n",
    "\n",
    "yMean = int(yMean)#Average of number of cases\n",
    "\n",
    "#Calculate regX, x values minus x mean\n",
    "regX = [] #List containing distance of x values from x mean\n",
    "for i in range(0,len(dates)):\n",
    "    regX.append(dates[i]-xMean)\n",
    "    \n",
    "regY = []\n",
    "#Calculate regY, y values minus y mean\n",
    "for i in range(0,len(cases)):\n",
    "    regY.append(cases[i]-yMean)\n",
    "\n",
    "#Calculate regX squared \n",
    "squaredRegX = []\n",
    "for i in range(0,len(regX)):\n",
    "    squaredRegX.append(regX[i] * regX[i])\n",
    "\n",
    "#Calculate regX * regY list\n",
    "regressionProducts = [] #(x-xMean)(y-yMean)\n",
    "for i in range(0,len(regX)): \n",
    "    regressionProducts.append(regX[i]*regY[i])\n",
    "\n",
    "#Complete regression line equation y = b0 + b1(x)\n",
    "#B1 = sigma(regressionProducts)/sigma(squaredRegX)\n",
    "\n",
    "#Compute sigma(regressionProducts)\n",
    "sigmaRegProducts = 0\n",
    "for i in range(0,len(regressionProducts)):\n",
    "    sigmaRegProducts += regressionProducts[i]\n",
    "\n",
    "#Compute sigma squaredRegX\n",
    "sigmaRegX = 0\n",
    "for i in range(0,len(squaredRegX)):\n",
    "    sigmaRegX += squaredRegX[i]\n",
    "    \n",
    "#b1 = slope\n",
    "slope = sigmaRegProducts/sigmaRegX\n",
    "\n",
    "#b0 = y intercept = meanY - b0(meanX)\n",
    "\n",
    "yIntercept = yMean - (slope * xMean)\n",
    "#Y value = yIntercept + slope(x)\n",
    "\n",
    "dependentRegValues = []\n",
    "for i in range(0,len(dates)):\n",
    "    dependentRegValues.append(yIntercept + (slope * dates[i]))\n",
    "    "
   ]
  },
  {
   "cell_type": "code",
   "execution_count": 5,
   "metadata": {},
   "outputs": [
    {
     "data": {
      "image/png": "[encoded data removed]",
      "text/plain": [
       "<Figure size 432x288 with 1 Axes>"
      ]
     },
     "metadata": {
      "needs_background": "light"
     },
     "output_type": "display_data"
    }
   ],
   "source": [
    "#Graph current data along with regression line\n",
    "plt.scatter(dates,cases)\n",
    "plt.plot(dates,dependentRegValues, color = 'red')\n",
    "plt.title(\"Covid Cases since Jan 22nd\")\n",
    "plt.ylabel('Cases in Millions')\n",
    "plt.xlabel('Days Since Jan 22')\n",
    "plt.show()\n"
   ]
  },
  {
   "cell_type": "code",
   "execution_count": null,
   "metadata": {},
   "outputs": [],
   "source": []
  },
  {
   "cell_type": "code",
   "execution_count": null,
   "metadata": {},
   "outputs": [],
   "source": []
  }
 ],
 "metadata": {
  "kernelspec": {
   "display_name": "Python 3",
   "language": "python",
   "name": "python3"
  },
  "language_info": {
   "codemirror_mode": {
    "name": "ipython",
    "version": 3
   },
   "file_extension": ".py",
   "mimetype": "text/x-python",
   "name": "python",
   "nbconvert_exporter": "python",
   "pygments_lexer": "ipython3",
   "version": "3.8.1"
  }
 },
 "nbformat": 4,
 "nbformat_minor": 2
}
